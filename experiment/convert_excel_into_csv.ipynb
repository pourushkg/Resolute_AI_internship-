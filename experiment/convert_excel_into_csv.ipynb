{
 "cells": [
  {
   "cell_type": "code",
   "execution_count": 1,
   "metadata": {},
   "outputs": [],
   "source": [
    "import pandas as pd \n",
    "import os \n",
    "os.chdir(\"../\")"
   ]
  },
  {
   "cell_type": "code",
   "execution_count": 2,
   "metadata": {},
   "outputs": [],
   "source": [
    "df = pd.read_excel(\"Data/Task1and2/train.xlsx\")"
   ]
  },
  {
   "cell_type": "code",
   "execution_count": 3,
   "metadata": {},
   "outputs": [],
   "source": [
    "df.to_csv('data2/train.csv', index=False)"
   ]
  },
  {
   "cell_type": "code",
   "execution_count": 2,
   "metadata": {},
   "outputs": [],
   "source": [
    "df2 = pd.read_csv(\"data2/train.csv\")"
   ]
  },
  {
   "cell_type": "code",
   "execution_count": 3,
   "metadata": {},
   "outputs": [
    {
     "name": "stdout",
     "output_type": "stream",
     "text": [
      "<class 'pandas.core.frame.DataFrame'>\n",
      "RangeIndex: 36752 entries, 0 to 36751\n",
      "Data columns (total 19 columns):\n",
      " #   Column  Non-Null Count  Dtype \n",
      "---  ------  --------------  ----- \n",
      " 0   T1      36752 non-null  int64 \n",
      " 1   T2      36752 non-null  int64 \n",
      " 2   T3      36752 non-null  int64 \n",
      " 3   T4      36752 non-null  int64 \n",
      " 4   T5      36752 non-null  int64 \n",
      " 5   T6      36752 non-null  int64 \n",
      " 6   T7      36752 non-null  int64 \n",
      " 7   T8      36752 non-null  int64 \n",
      " 8   T9      36752 non-null  int64 \n",
      " 9   T10     36752 non-null  int64 \n",
      " 10  T11     36752 non-null  int64 \n",
      " 11  T12     36752 non-null  int64 \n",
      " 12  T13     36752 non-null  int64 \n",
      " 13  T14     36752 non-null  int64 \n",
      " 14  T15     36752 non-null  int64 \n",
      " 15  T16     36752 non-null  int64 \n",
      " 16  T17     36752 non-null  int64 \n",
      " 17  T18     36752 non-null  int64 \n",
      " 18  target  36752 non-null  object\n",
      "dtypes: int64(18), object(1)\n",
      "memory usage: 5.3+ MB\n"
     ]
    }
   ],
   "source": [
    "df2.info()"
   ]
  },
  {
   "cell_type": "code",
   "execution_count": null,
   "metadata": {},
   "outputs": [],
   "source": []
  }
 ],
 "metadata": {
  "kernelspec": {
   "display_name": "ml_project",
   "language": "python",
   "name": "python3"
  },
  "language_info": {
   "codemirror_mode": {
    "name": "ipython",
    "version": 3
   },
   "file_extension": ".py",
   "mimetype": "text/x-python",
   "name": "python",
   "nbconvert_exporter": "python",
   "pygments_lexer": "ipython3",
   "version": "3.8.18"
  }
 },
 "nbformat": 4,
 "nbformat_minor": 2
}
